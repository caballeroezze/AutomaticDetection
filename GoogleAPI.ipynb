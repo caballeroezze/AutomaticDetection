{
 "cells": [
  {
   "cell_type": "markdown",
   "id": "5069ac78",
   "metadata": {},
   "source": [
    "# AUTOMATIZACIÓN DE DETECCIÓN EN TEXTO "
   ]
  },
  {
   "cell_type": "code",
   "execution_count": 1,
   "id": "77d2c6c4",
   "metadata": {},
   "outputs": [
    {
     "name": "stdout",
     "output_type": "stream",
     "text": [
      "Collecting google-generativeai\n",
      "  Downloading google_generativeai-0.8.4-py3-none-any.whl.metadata (4.2 kB)\n",
      "Requirement already satisfied: pandas in c:\\users\\eecab\\appdata\\local\\programs\\python\\python313\\lib\\site-packages (2.2.3)\n",
      "Collecting openpyxl\n",
      "  Downloading openpyxl-3.1.5-py2.py3-none-any.whl.metadata (2.5 kB)\n",
      "Collecting google-ai-generativelanguage==0.6.15 (from google-generativeai)\n",
      "  Downloading google_ai_generativelanguage-0.6.15-py3-none-any.whl.metadata (5.7 kB)\n",
      "Collecting google-api-core (from google-generativeai)\n",
      "  Downloading google_api_core-2.24.2-py3-none-any.whl.metadata (3.0 kB)\n",
      "Collecting google-api-python-client (from google-generativeai)\n",
      "  Downloading google_api_python_client-2.167.0-py2.py3-none-any.whl.metadata (6.7 kB)\n",
      "Collecting google-auth>=2.15.0 (from google-generativeai)\n",
      "  Downloading google_auth-2.39.0-py2.py3-none-any.whl.metadata (6.2 kB)\n",
      "Requirement already satisfied: protobuf in c:\\users\\eecab\\appdata\\local\\programs\\python\\python313\\lib\\site-packages (from google-generativeai) (6.30.2)\n",
      "Collecting pydantic (from google-generativeai)\n",
      "  Using cached pydantic-2.11.3-py3-none-any.whl.metadata (65 kB)\n",
      "Requirement already satisfied: tqdm in c:\\users\\eecab\\appdata\\local\\programs\\python\\python313\\lib\\site-packages (from google-generativeai) (4.67.1)\n",
      "Requirement already satisfied: typing-extensions in c:\\users\\eecab\\appdata\\local\\programs\\python\\python313\\lib\\site-packages (from google-generativeai) (4.13.1)\n",
      "Collecting proto-plus<2.0.0dev,>=1.22.3 (from google-ai-generativelanguage==0.6.15->google-generativeai)\n",
      "  Downloading proto_plus-1.26.1-py3-none-any.whl.metadata (2.2 kB)\n",
      "Collecting protobuf (from google-generativeai)\n",
      "  Downloading protobuf-5.29.4-cp310-abi3-win_amd64.whl.metadata (592 bytes)\n",
      "Requirement already satisfied: numpy>=1.26.0 in c:\\users\\eecab\\appdata\\local\\programs\\python\\python313\\lib\\site-packages (from pandas) (2.1.1)\n",
      "Requirement already satisfied: python-dateutil>=2.8.2 in c:\\users\\eecab\\appdata\\local\\programs\\python\\python313\\lib\\site-packages (from pandas) (2.9.0.post0)\n",
      "Requirement already satisfied: pytz>=2020.1 in c:\\users\\eecab\\appdata\\local\\programs\\python\\python313\\lib\\site-packages (from pandas) (2024.2)\n",
      "Requirement already satisfied: tzdata>=2022.7 in c:\\users\\eecab\\appdata\\local\\programs\\python\\python313\\lib\\site-packages (from pandas) (2024.2)\n",
      "Collecting et-xmlfile (from openpyxl)\n",
      "  Downloading et_xmlfile-2.0.0-py3-none-any.whl.metadata (2.7 kB)\n",
      "Collecting googleapis-common-protos<2.0.0,>=1.56.2 (from google-api-core->google-generativeai)\n",
      "  Downloading googleapis_common_protos-1.70.0-py3-none-any.whl.metadata (9.3 kB)\n",
      "Requirement already satisfied: requests<3.0.0,>=2.18.0 in c:\\users\\eecab\\appdata\\local\\programs\\python\\python313\\lib\\site-packages (from google-api-core->google-generativeai) (2.32.3)\n",
      "Collecting cachetools<6.0,>=2.0.0 (from google-auth>=2.15.0->google-generativeai)\n",
      "  Downloading cachetools-5.5.2-py3-none-any.whl.metadata (5.4 kB)\n",
      "Collecting pyasn1-modules>=0.2.1 (from google-auth>=2.15.0->google-generativeai)\n",
      "  Downloading pyasn1_modules-0.4.2-py3-none-any.whl.metadata (3.5 kB)\n",
      "Collecting rsa<5,>=3.1.4 (from google-auth>=2.15.0->google-generativeai)\n",
      "  Downloading rsa-4.9.1-py3-none-any.whl.metadata (5.6 kB)\n",
      "Requirement already satisfied: six>=1.5 in c:\\users\\eecab\\appdata\\local\\programs\\python\\python313\\lib\\site-packages (from python-dateutil>=2.8.2->pandas) (1.16.0)\n",
      "Collecting httplib2<1.0.0,>=0.19.0 (from google-api-python-client->google-generativeai)\n",
      "  Downloading httplib2-0.22.0-py3-none-any.whl.metadata (2.6 kB)\n",
      "Collecting google-auth-httplib2<1.0.0,>=0.2.0 (from google-api-python-client->google-generativeai)\n",
      "  Downloading google_auth_httplib2-0.2.0-py2.py3-none-any.whl.metadata (2.2 kB)\n",
      "Collecting uritemplate<5,>=3.0.1 (from google-api-python-client->google-generativeai)\n",
      "  Downloading uritemplate-4.1.1-py2.py3-none-any.whl.metadata (2.9 kB)\n",
      "Collecting annotated-types>=0.6.0 (from pydantic->google-generativeai)\n",
      "  Using cached annotated_types-0.7.0-py3-none-any.whl.metadata (15 kB)\n",
      "Collecting pydantic-core==2.33.1 (from pydantic->google-generativeai)\n",
      "  Downloading pydantic_core-2.33.1-cp313-cp313-win_amd64.whl.metadata (6.9 kB)\n",
      "Collecting typing-inspection>=0.4.0 (from pydantic->google-generativeai)\n",
      "  Using cached typing_inspection-0.4.0-py3-none-any.whl.metadata (2.6 kB)\n",
      "Requirement already satisfied: colorama in c:\\users\\eecab\\appdata\\roaming\\python\\python313\\site-packages (from tqdm->google-generativeai) (0.4.6)\n",
      "Requirement already satisfied: grpcio<2.0dev,>=1.33.2 in c:\\users\\eecab\\appdata\\local\\programs\\python\\python313\\lib\\site-packages (from google-api-core[grpc]!=2.0.*,!=2.1.*,!=2.10.*,!=2.2.*,!=2.3.*,!=2.4.*,!=2.5.*,!=2.6.*,!=2.7.*,!=2.8.*,!=2.9.*,<3.0.0dev,>=1.34.1->google-ai-generativelanguage==0.6.15->google-generativeai) (1.71.0)\n",
      "Collecting grpcio-status<2.0.dev0,>=1.33.2 (from google-api-core[grpc]!=2.0.*,!=2.1.*,!=2.10.*,!=2.2.*,!=2.3.*,!=2.4.*,!=2.5.*,!=2.6.*,!=2.7.*,!=2.8.*,!=2.9.*,<3.0.0dev,>=1.34.1->google-ai-generativelanguage==0.6.15->google-generativeai)\n",
      "  Downloading grpcio_status-1.72.0rc1-py3-none-any.whl.metadata (1.1 kB)\n",
      "Requirement already satisfied: pyparsing!=3.0.0,!=3.0.1,!=3.0.2,!=3.0.3,<4,>=2.4.2 in c:\\users\\eecab\\appdata\\local\\programs\\python\\python313\\lib\\site-packages (from httplib2<1.0.0,>=0.19.0->google-api-python-client->google-generativeai) (3.2.0)\n",
      "Collecting pyasn1<0.7.0,>=0.6.1 (from pyasn1-modules>=0.2.1->google-auth>=2.15.0->google-generativeai)\n",
      "  Downloading pyasn1-0.6.1-py3-none-any.whl.metadata (8.4 kB)\n",
      "Requirement already satisfied: charset-normalizer<4,>=2 in c:\\users\\eecab\\appdata\\local\\programs\\python\\python313\\lib\\site-packages (from requests<3.0.0,>=2.18.0->google-api-core->google-generativeai) (3.4.1)\n",
      "Requirement already satisfied: idna<4,>=2.5 in c:\\users\\eecab\\appdata\\local\\programs\\python\\python313\\lib\\site-packages (from requests<3.0.0,>=2.18.0->google-api-core->google-generativeai) (3.7)\n",
      "Requirement already satisfied: urllib3<3,>=1.21.1 in c:\\users\\eecab\\appdata\\local\\programs\\python\\python313\\lib\\site-packages (from requests<3.0.0,>=2.18.0->google-api-core->google-generativeai) (2.3.0)\n",
      "Requirement already satisfied: certifi>=2017.4.17 in c:\\users\\eecab\\appdata\\local\\programs\\python\\python313\\lib\\site-packages (from requests<3.0.0,>=2.18.0->google-api-core->google-generativeai) (2025.1.31)\n",
      "INFO: pip is looking at multiple versions of grpcio-status to determine which version is compatible with other requirements. This could take a while.\n",
      "Collecting grpcio-status<2.0.dev0,>=1.33.2 (from google-api-core[grpc]!=2.0.*,!=2.1.*,!=2.10.*,!=2.2.*,!=2.3.*,!=2.4.*,!=2.5.*,!=2.6.*,!=2.7.*,!=2.8.*,!=2.9.*,<3.0.0dev,>=1.34.1->google-ai-generativelanguage==0.6.15->google-generativeai)\n",
      "  Downloading grpcio_status-1.71.0-py3-none-any.whl.metadata (1.1 kB)\n",
      "Downloading google_generativeai-0.8.4-py3-none-any.whl (175 kB)\n",
      "Downloading google_ai_generativelanguage-0.6.15-py3-none-any.whl (1.3 MB)\n",
      "   ---------------------------------------- 0.0/1.3 MB ? eta -:--:--\n",
      "   ------- -------------------------------- 0.3/1.3 MB ? eta -:--:--\n",
      "   --------------- ------------------------ 0.5/1.3 MB 1.5 MB/s eta 0:00:01\n",
      "   ----------------------- ---------------- 0.8/1.3 MB 1.6 MB/s eta 0:00:01\n",
      "   ---------------------------------------- 1.3/1.3 MB 1.7 MB/s eta 0:00:00\n",
      "Downloading openpyxl-3.1.5-py2.py3-none-any.whl (250 kB)\n",
      "Downloading google_api_core-2.24.2-py3-none-any.whl (160 kB)\n",
      "Downloading google_auth-2.39.0-py2.py3-none-any.whl (212 kB)\n",
      "Downloading protobuf-5.29.4-cp310-abi3-win_amd64.whl (434 kB)\n",
      "Downloading et_xmlfile-2.0.0-py3-none-any.whl (18 kB)\n",
      "Downloading google_api_python_client-2.167.0-py2.py3-none-any.whl (13.2 MB)\n",
      "   ---------------------------------------- 0.0/13.2 MB ? eta -:--:--\n",
      "    --------------------------------------- 0.3/13.2 MB ? eta -:--:--\n",
      "   - -------------------------------------- 0.5/13.2 MB 2.1 MB/s eta 0:00:07\n",
      "   --- ------------------------------------ 1.0/13.2 MB 2.2 MB/s eta 0:00:06\n",
      "   --- ------------------------------------ 1.3/13.2 MB 1.7 MB/s eta 0:00:07\n",
      "   ----- ---------------------------------- 1.8/13.2 MB 1.8 MB/s eta 0:00:07\n",
      "   ----- ---------------------------------- 1.8/13.2 MB 1.8 MB/s eta 0:00:07\n",
      "   ------- -------------------------------- 2.4/13.2 MB 1.6 MB/s eta 0:00:07\n",
      "   ------- -------------------------------- 2.6/13.2 MB 1.7 MB/s eta 0:00:07\n",
      "   -------- ------------------------------- 2.9/13.2 MB 1.7 MB/s eta 0:00:07\n",
      "   ---------- ----------------------------- 3.4/13.2 MB 1.6 MB/s eta 0:00:07\n",
      "   ----------- ---------------------------- 3.9/13.2 MB 1.7 MB/s eta 0:00:06\n",
      "   ------------- -------------------------- 4.5/13.2 MB 1.8 MB/s eta 0:00:05\n",
      "   -------------- ------------------------- 4.7/13.2 MB 1.8 MB/s eta 0:00:05\n",
      "   --------------- ------------------------ 5.2/13.2 MB 1.8 MB/s eta 0:00:05\n",
      "   ---------------- ----------------------- 5.5/13.2 MB 1.8 MB/s eta 0:00:05\n",
      "   ----------------- ---------------------- 5.8/13.2 MB 1.8 MB/s eta 0:00:05\n",
      "   ------------------- -------------------- 6.3/13.2 MB 1.8 MB/s eta 0:00:04\n",
      "   ------------------- -------------------- 6.6/13.2 MB 1.7 MB/s eta 0:00:04\n",
      "   ------------------- -------------------- 6.6/13.2 MB 1.7 MB/s eta 0:00:04\n",
      "   -------------------- ------------------- 6.8/13.2 MB 1.7 MB/s eta 0:00:04\n",
      "   --------------------- ------------------ 7.1/13.2 MB 1.6 MB/s eta 0:00:04\n",
      "   ---------------------- ----------------- 7.3/13.2 MB 1.6 MB/s eta 0:00:04\n",
      "   ---------------------- ----------------- 7.6/13.2 MB 1.6 MB/s eta 0:00:04\n",
      "   ------------------------ --------------- 8.1/13.2 MB 1.6 MB/s eta 0:00:04\n",
      "   ------------------------- -------------- 8.4/13.2 MB 1.6 MB/s eta 0:00:03\n",
      "   -------------------------- ------------- 8.7/13.2 MB 1.6 MB/s eta 0:00:03\n",
      "   --------------------------- ------------ 9.2/13.2 MB 1.6 MB/s eta 0:00:03\n",
      "   ---------------------------- ----------- 9.4/13.2 MB 1.6 MB/s eta 0:00:03\n",
      "   ---------------------------- ----------- 9.4/13.2 MB 1.6 MB/s eta 0:00:03\n",
      "   ----------------------------- ---------- 9.7/13.2 MB 1.6 MB/s eta 0:00:03\n",
      "   ------------------------------ --------- 10.0/13.2 MB 1.5 MB/s eta 0:00:03\n",
      "   ------------------------------ --------- 10.2/13.2 MB 1.6 MB/s eta 0:00:02\n",
      "   -------------------------------- ------- 10.7/13.2 MB 1.5 MB/s eta 0:00:02\n",
      "   --------------------------------- ------ 11.0/13.2 MB 1.5 MB/s eta 0:00:02\n",
      "   ---------------------------------- ----- 11.3/13.2 MB 1.5 MB/s eta 0:00:02\n",
      "   ----------------------------------- ---- 11.8/13.2 MB 1.5 MB/s eta 0:00:01\n",
      "   ------------------------------------ --- 12.1/13.2 MB 1.5 MB/s eta 0:00:01\n",
      "   -------------------------------------- - 12.6/13.2 MB 1.6 MB/s eta 0:00:01\n",
      "   -------------------------------------- - 12.8/13.2 MB 1.6 MB/s eta 0:00:01\n",
      "   ---------------------------------------  13.1/13.2 MB 1.5 MB/s eta 0:00:01\n",
      "   ---------------------------------------- 13.2/13.2 MB 1.5 MB/s eta 0:00:00\n",
      "Using cached pydantic-2.11.3-py3-none-any.whl (443 kB)\n",
      "Downloading pydantic_core-2.33.1-cp313-cp313-win_amd64.whl (2.0 MB)\n",
      "   ---------------------------------------- 0.0/2.0 MB ? eta -:--:--\n",
      "   ----- ---------------------------------- 0.3/2.0 MB ? eta -:--:--\n",
      "   ---------- ----------------------------- 0.5/2.0 MB 2.3 MB/s eta 0:00:01\n",
      "   --------------------- ------------------ 1.0/2.0 MB 1.8 MB/s eta 0:00:01\n",
      "   -------------------------- ------------- 1.3/2.0 MB 1.7 MB/s eta 0:00:01\n",
      "   -------------------------------- ------- 1.6/2.0 MB 1.7 MB/s eta 0:00:01\n",
      "   ------------------------------------- -- 1.8/2.0 MB 1.6 MB/s eta 0:00:01\n",
      "   ---------------------------------------- 2.0/2.0 MB 1.5 MB/s eta 0:00:00\n",
      "Using cached annotated_types-0.7.0-py3-none-any.whl (13 kB)\n",
      "Downloading cachetools-5.5.2-py3-none-any.whl (10 kB)\n",
      "Downloading google_auth_httplib2-0.2.0-py2.py3-none-any.whl (9.3 kB)\n",
      "Downloading googleapis_common_protos-1.70.0-py3-none-any.whl (294 kB)\n",
      "Downloading httplib2-0.22.0-py3-none-any.whl (96 kB)\n",
      "Downloading proto_plus-1.26.1-py3-none-any.whl (50 kB)\n",
      "Downloading pyasn1_modules-0.4.2-py3-none-any.whl (181 kB)\n",
      "Downloading rsa-4.9.1-py3-none-any.whl (34 kB)\n",
      "Using cached typing_inspection-0.4.0-py3-none-any.whl (14 kB)\n",
      "Downloading uritemplate-4.1.1-py2.py3-none-any.whl (10 kB)\n",
      "Downloading grpcio_status-1.71.0-py3-none-any.whl (14 kB)\n",
      "Downloading pyasn1-0.6.1-py3-none-any.whl (83 kB)\n",
      "Installing collected packages: uritemplate, typing-inspection, pydantic-core, pyasn1, protobuf, httplib2, et-xmlfile, cachetools, annotated-types, rsa, pydantic, pyasn1-modules, proto-plus, openpyxl, googleapis-common-protos, grpcio-status, google-auth, google-auth-httplib2, google-api-core, google-api-python-client, google-ai-generativelanguage, google-generativeai\n",
      "  Attempting uninstall: protobuf\n",
      "    Found existing installation: protobuf 6.30.2\n",
      "    Uninstalling protobuf-6.30.2:\n",
      "      Successfully uninstalled protobuf-6.30.2\n",
      "Successfully installed annotated-types-0.7.0 cachetools-5.5.2 et-xmlfile-2.0.0 google-ai-generativelanguage-0.6.15 google-api-core-2.24.2 google-api-python-client-2.167.0 google-auth-2.39.0 google-auth-httplib2-0.2.0 google-generativeai-0.8.4 googleapis-common-protos-1.70.0 grpcio-status-1.71.0 httplib2-0.22.0 openpyxl-3.1.5 proto-plus-1.26.1 protobuf-5.29.4 pyasn1-0.6.1 pyasn1-modules-0.4.2 pydantic-2.11.3 pydantic-core-2.33.1 rsa-4.9.1 typing-inspection-0.4.0 uritemplate-4.1.1\n"
     ]
    }
   ],
   "source": [
    "!pip install google-generativeai pandas openpyxl\n"
   ]
  },
  {
   "cell_type": "code",
   "execution_count": 3,
   "id": "0898e828",
   "metadata": {},
   "outputs": [],
   "source": [
    "import pandas as pd\n",
    "import google.generativeai as genai\n",
    "import time"
   ]
  },
  {
   "cell_type": "code",
   "execution_count": 8,
   "id": "8ba2f054",
   "metadata": {},
   "outputs": [],
   "source": [
    "# CONFIGURACIÓN\n",
    "API_KEY = \"ACÁ VA LA API\"\n",
    "genai.configure(api_key=API_KEY)\n",
    "\n",
    "model = genai.GenerativeModel(\"models/gemini-2.0-flash\")\n"
   ]
  },
  {
   "cell_type": "code",
   "execution_count": 9,
   "id": "bedce1d3",
   "metadata": {},
   "outputs": [],
   "source": [
    "# CARGAR EXCEL CON OBSERVACIONES\n",
    "df = pd.read_excel(\"Libro1.xlsx\")"
   ]
  },
  {
   "cell_type": "code",
   "execution_count": 10,
   "id": "021d4d2f",
   "metadata": {},
   "outputs": [],
   "source": [
    "# RESULTADOS\n",
    "resultados = []"
   ]
  },
  {
   "cell_type": "code",
   "execution_count": 13,
   "id": "63d4ef5c",
   "metadata": {},
   "outputs": [
    {
     "name": "stdout",
     "output_type": "stream",
     "text": [
      "Defaulting to user installation because normal site-packages is not writeable"
     ]
    },
    {
     "name": "stderr",
     "output_type": "stream",
     "text": [
      "\n",
      "[notice] A new release of pip is available: 24.3.1 -> 25.0.1\n",
      "[notice] To update, run: python.exe -m pip install --upgrade pip\n"
     ]
    },
    {
     "name": "stdout",
     "output_type": "stream",
     "text": [
      "\n",
      "Requirement already satisfied: tqdm in c:\\users\\ecaballero\\appdata\\roaming\\python\\python313\\site-packages (4.67.1)\n",
      "Requirement already satisfied: colorama in c:\\users\\ecaballero\\appdata\\roaming\\python\\python313\\site-packages (from tqdm) (0.4.6)\n"
     ]
    }
   ],
   "source": [
    "!pip install tqdm\n"
   ]
  },
  {
   "cell_type": "code",
   "execution_count": 14,
   "id": "e0259f0e",
   "metadata": {},
   "outputs": [],
   "source": [
    "from tqdm import tqdm\n",
    "import time"
   ]
  },
  {
   "cell_type": "code",
   "execution_count": 15,
   "id": "308be950",
   "metadata": {},
   "outputs": [
    {
     "name": "stderr",
     "output_type": "stream",
     "text": [
      "Procesando observaciones: 100%|██████████| 2636/2636 [52:05<00:00,  1.19s/it]  \n"
     ]
    },
    {
     "name": "stdout",
     "output_type": "stream",
     "text": [
      "✅ Listo. Archivo creado: drogas_detectadas.xlsx\n"
     ]
    }
   ],
   "source": [
    "# PROCESAR POR BLOQUES DE 5 OBSERVACIONES\n",
    "bloque = []\n",
    "ids_bloque = []\n",
    "\n",
    "for index, row in tqdm(df.iterrows(), total=len(df), desc=\"Procesando observaciones\"):\n",
    "    parte_id = row[\"ParteEnfermeriaID\"]\n",
    "    internacion_id = row[\"InternacionID\"]\n",
    "    observacion = row[\"Observaciones\"]\n",
    "\n",
    "    bloque.append(f\"{len(bloque)+1}. {observacion}\")\n",
    "    ids_bloque.append((parte_id, internacion_id, observacion))\n",
    "\n",
    "    # Cuando tengamos 5 observaciones, mandamos\n",
    "    if len(bloque) == 5 or index == len(df) - 1:\n",
    "        prompt = f\"\"\"\n",
    "Vas a analizar observaciones clínicas escritas en texto libre.\n",
    "\n",
    "Tarea: Detectar si hay drogas o monodrogas, aunque estén mal escritas o abreviadas.  \n",
    "Devolvé solo las observaciones que tengan drogas, con este formato:\n",
    "\n",
    "[Índice]: Medicamento(s)\n",
    "\n",
    "Observaciones:\n",
    "{chr(10).join(bloque)}\n",
    "        \"\"\"\n",
    "\n",
    "        response = model.generate_content(prompt)\n",
    "        output = response.text.strip()\n",
    "\n",
    "        # Procesar resultado y vincular con IDs\n",
    "        for linea in output.split(\"\\n\"):\n",
    "            if \":\" in linea:\n",
    "                idx_str, drogas = linea.split(\":\", 1)\n",
    "                try:\n",
    "                    idx = int(idx_str.strip())\n",
    "                    parte_id, internacion_id, obs = ids_bloque[idx - 1]\n",
    "                    resultados.append({\n",
    "                        \"ParteEnfermeriaID\": parte_id,\n",
    "                        \"InternacionID\": internacion_id,\n",
    "                        \"Observacion\": obs,\n",
    "                        \"MedicamentosDetectados\": drogas.strip()\n",
    "                    })\n",
    "                except:\n",
    "                    continue  # si hay algo raro en la línea, lo salteamos\n",
    "\n",
    "        # Limpiar para el próximo bloque\n",
    "        bloque = []\n",
    "        ids_bloque = []\n",
    "        time.sleep(5)  # delay para evitar límite de 15 requests por minuto\n",
    "\n",
    "\n",
    "# GUARDAR EN EXCEL\n",
    "df_resultado = pd.DataFrame(resultados)\n",
    "df_resultado.to_excel(\"drogas_detectadas.xlsx\", index=False)\n",
    "print(\"✅ Listo. Archivo creado: drogas_detectadas.xlsx\")\n"
   ]
  },
  {
   "cell_type": "code",
   "execution_count": null,
   "id": "2ea80f7a",
   "metadata": {},
   "outputs": [],
   "source": []
  }
 ],
 "metadata": {
  "kernelspec": {
   "display_name": "Python 3",
   "language": "python",
   "name": "python3"
  },
  "language_info": {
   "codemirror_mode": {
    "name": "ipython",
    "version": 3
   },
   "file_extension": ".py",
   "mimetype": "text/x-python",
   "name": "python",
   "nbconvert_exporter": "python",
   "pygments_lexer": "ipython3",
   "version": "3.13.0"
  }
 },
 "nbformat": 4,
 "nbformat_minor": 5
}
